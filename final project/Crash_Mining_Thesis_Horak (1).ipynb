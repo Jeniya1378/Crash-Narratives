{
  "nbformat": 4,
  "nbformat_minor": 0,
  "metadata": {
    "colab": {
      "provenance": []
    },
    "kernelspec": {
      "name": "python3",
      "display_name": "Python 3"
    },
    "language_info": {
      "name": "python"
    }
  },
  "cells": [
    {
      "cell_type": "code",
      "execution_count": 1,
      "metadata": {
        "colab": {
          "base_uri": "https://localhost:8080/"
        },
        "id": "Ku6a9T7QbNQP",
        "outputId": "c1242ea2-5c9e-4e14-8e7a-e38b200de1b8"
      },
      "outputs": [
        {
          "output_type": "stream",
          "name": "stdout",
          "text": [
            "Mounted at /content/drive\n"
          ]
        }
      ],
      "source": [
        "from google.colab import drive\n",
        "drive.mount('/content/drive')"
      ]
    },
    {
      "cell_type": "code",
      "source": [
        "import sys\n",
        "\n",
        "assert sys.version_info >= (3, 7)"
      ],
      "metadata": {
        "id": "XN4g1kOEbu87"
      },
      "execution_count": 2,
      "outputs": []
    },
    {
      "cell_type": "code",
      "source": [
        "from packaging import version\n",
        "import sklearn\n",
        "\n",
        "assert version.parse(sklearn.__version__) >= version.parse(\"1.0.1\")"
      ],
      "metadata": {
        "id": "Z79x2tw9crP0"
      },
      "execution_count": 3,
      "outputs": []
    },
    {
      "cell_type": "markdown",
      "source": [
        "##Load Dataset"
      ],
      "metadata": {
        "id": "dZ_UQ0vnggYO"
      }
    },
    {
      "cell_type": "code",
      "source": [
        "import pandas as pd\n",
        "\n",
        "file_path = \"/content/drive/MyDrive/ML in GeoScience/Intersection_crashData_Clean_4.27.csv\"  # Change this if using Google Drive\n",
        "df = pd.read_csv(file_path)\n",
        "\n",
        "df.columns = df.columns.str.strip()\n"
      ],
      "metadata": {
        "id": "72cTfZBSdbO9"
      },
      "execution_count": 23,
      "outputs": []
    },
    {
      "cell_type": "markdown",
      "source": [
        "##Understand the dataset"
      ],
      "metadata": {
        "id": "jRQX-bxffmK4"
      }
    },
    {
      "cell_type": "code",
      "source": [
        "print(df.columns.tolist())"
      ],
      "metadata": {
        "colab": {
          "base_uri": "https://localhost:8080/"
        },
        "id": "HnNc4eBYgRKt",
        "outputId": "7e4bab3f-2625-4014-fdf2-144ec23df0fb"
      },
      "execution_count": 24,
      "outputs": [
        {
          "output_type": "stream",
          "name": "stdout",
          "text": [
            "['case_id', 'description', 'Intersection_num', 'case_no.', 'unit_1_direction', 'unit_1_movement', 'unit_2_direction', 'unit_2_movement', 'unit_at_fault', 'crash_type']\n"
          ]
        }
      ]
    },
    {
      "cell_type": "markdown",
      "source": [
        "##Text Preprocess"
      ],
      "metadata": {
        "id": "y7WbUpQ3f9PO"
      }
    },
    {
      "cell_type": "code",
      "source": [
        "import pandas as pd\n",
        "import re\n",
        "\n",
        "# Input text\n",
        "input_texts = df['description'].astype(str)\n",
        "\n",
        "# Inject regex-based directional tokens\n",
        "def inject_direction_tokens(text):\n",
        "    text = text.lower()\n",
        "    direction_patterns = {\n",
        "        r'\\bnorth(bound)?\\b': '[DIR_NB]',\n",
        "        r'\\bsouth(bound)?\\b': '[DIR_SB]',\n",
        "        r'\\beast(bound)?\\b': '[DIR_EB]',\n",
        "        r'\\bwest(bound)?\\b': '[DIR_WB]',\n",
        "    }\n",
        "    for pattern, token in direction_patterns.items():\n",
        "        if re.search(pattern, text):\n",
        "            text += f' {token}'\n",
        "    return text\n",
        "\n",
        "# Apply to all input texts\n",
        "input_texts = input_texts.apply(inject_direction_tokens)\n",
        "\n",
        "# Output columns (multiclass labels)\n",
        "unit1_dir_col = \"unit_1_direction\"\n",
        "unit1_mov_col = \"unit_1_movement\"\n",
        "unit2_dir_col = \"unit_2_direction\"\n",
        "unit2_mov_col = \"unit_2_movement\"\n",
        "unit_at_fault_col = \"unit_at_fault\"\n",
        "crash_type_col = \"crash_type\"\n",
        "\n",
        "# Prepare labels\n",
        "y_unit1_dir = df[unit1_dir_col]\n",
        "y_unit1_mov = df[unit1_mov_col]\n",
        "y_unit2_dir = df[unit2_dir_col]\n",
        "y_unit2_mov = df[unit2_mov_col]\n",
        "y_unit_at_fault = df[unit_at_fault_col]\n",
        "y_crash_type = df[crash_type_col]\n"
      ],
      "metadata": {
        "id": "LI4TsC6mKmtZ"
      },
      "execution_count": 25,
      "outputs": []
    },
    {
      "cell_type": "markdown",
      "source": [
        "#Label Encode All Outputs"
      ],
      "metadata": {
        "id": "UD2pDIiRLBh7"
      }
    },
    {
      "cell_type": "code",
      "source": [
        "from sklearn.preprocessing import LabelEncoder\n",
        "\n",
        "enc_unit1_dir = LabelEncoder()\n",
        "enc_unit1_mov = LabelEncoder()\n",
        "enc_unit2_dir = LabelEncoder()\n",
        "enc_unit2_mov = LabelEncoder()\n",
        "enc_unit_at_fault = LabelEncoder()\n",
        "enc_crash_type = LabelEncoder()\n",
        "\n",
        "y1 = enc_unit1_dir.fit_transform(y_unit1_dir)\n",
        "y2 = enc_unit1_mov.fit_transform(y_unit1_mov)\n",
        "y3 = enc_unit2_dir.fit_transform(y_unit2_dir)\n",
        "y4 = enc_unit2_mov.fit_transform(y_unit2_mov)\n",
        "y5 = enc_unit_at_fault.fit_transform(y_unit_at_fault)\n",
        "y6 = enc_crash_type.fit_transform(y_crash_type)\n",
        "\n",
        "# Now y1, y2, y3, y4, y5, y6 are integer encoded targets\n"
      ],
      "metadata": {
        "id": "0dMXyK8QLGJq"
      },
      "execution_count": 26,
      "outputs": []
    },
    {
      "cell_type": "code",
      "source": [
        "print(len(input_texts))\n",
        "print(len(y1), len(y2), len(y3), len(y4), len(y5), len(y6))"
      ],
      "metadata": {
        "colab": {
          "base_uri": "https://localhost:8080/"
        },
        "id": "UwWLf0eN9xkD",
        "outputId": "76a36399-161c-4c06-d0eb-febb92fd7fa1"
      },
      "execution_count": 27,
      "outputs": [
        {
          "output_type": "stream",
          "name": "stdout",
          "text": [
            "507\n",
            "507 507 507 507 507 507\n"
          ]
        }
      ]
    },
    {
      "cell_type": "markdown",
      "source": [
        "##Full label split for Train-Test (80-20)%"
      ],
      "metadata": {
        "id": "pOcAOI_Vjn73"
      }
    },
    {
      "cell_type": "code",
      "source": [
        "from sklearn.model_selection import train_test_split\n",
        "\n",
        "X_train, X_val, y1_train, y1_val, y2_train, y2_val, y3_train, y3_val, y4_train, y4_val, y5_train, y5_val, y6_train, y6_val = train_test_split(\n",
        "    input_texts, y1, y2, y3, y4, y5, y6,\n",
        "    test_size=0.2,\n",
        "    random_state=42,\n",
        "    stratify=y6\n",
        ")\n"
      ],
      "metadata": {
        "id": "E5sS5ZHvLM83"
      },
      "execution_count": 28,
      "outputs": []
    },
    {
      "cell_type": "code",
      "source": [
        "from transformers import BertTokenizer\n",
        "\n",
        "# Initialize tokenizer once\n",
        "tokenizer = BertTokenizer.from_pretrained(\"bert-base-uncased\")\n",
        "\n",
        "# Define function\n",
        "def tokenize_texts(texts):\n",
        "    return tokenizer(\n",
        "        list(texts),\n",
        "        padding=True,\n",
        "        truncation=True,\n",
        "        max_length=128,\n",
        "        return_tensors=\"pt\"\n",
        "    )\n"
      ],
      "metadata": {
        "id": "UkzoYjCoQKDS"
      },
      "execution_count": 29,
      "outputs": []
    },
    {
      "cell_type": "code",
      "source": [
        "import torch\n",
        "from torch.utils.data import Dataset\n",
        "\n",
        "class CrashDataset(Dataset):\n",
        "    def __init__(self, texts, y1, y2, y3, y4, y5, y6):\n",
        "        self.encodings = tokenize_texts(texts)\n",
        "        self.y1 = torch.tensor(y1, dtype=torch.long)\n",
        "        self.y2 = torch.tensor(y2, dtype=torch.long)\n",
        "        self.y3 = torch.tensor(y3, dtype=torch.long)\n",
        "        self.y4 = torch.tensor(y4, dtype=torch.long)\n",
        "        self.y5 = torch.tensor(y5, dtype=torch.long)\n",
        "        self.y6 = torch.tensor(y6, dtype=torch.long)\n",
        "\n",
        "    def __getitem__(self, idx):\n",
        "        item = {key: val[idx] for key, val in self.encodings.items()}\n",
        "        item['y1'] = self.y1[idx]\n",
        "        item['y2'] = self.y2[idx]\n",
        "        item['y3'] = self.y3[idx]\n",
        "        item['y4'] = self.y4[idx]\n",
        "        item['y5'] = self.y5[idx]\n",
        "        item['y6'] = self.y6[idx]\n",
        "        return item\n",
        "\n",
        "    def __len__(self):\n",
        "        return len(self.y1)\n"
      ],
      "metadata": {
        "id": "3ZaBVgdYLyIh"
      },
      "execution_count": 30,
      "outputs": []
    },
    {
      "cell_type": "markdown",
      "source": [
        "##Tokenization with BERT"
      ],
      "metadata": {
        "id": "PeOILatEnbg9"
      }
    },
    {
      "cell_type": "code",
      "source": [
        "import torch.nn as nn\n",
        "from transformers import BertModel\n",
        "\n",
        "class CrashBERTMultiHead(nn.Module):\n",
        "    def __init__(self, n_classes):\n",
        "        super(CrashBERTMultiHead, self).__init__()\n",
        "        self.bert = BertModel.from_pretrained(\"bert-base-uncased\")\n",
        "        self.dropout = nn.Dropout(0.3)\n",
        "        self.fc1 = nn.Linear(self.bert.config.hidden_size, n_classes[0])  # unit1_dir\n",
        "        self.fc2 = nn.Linear(self.bert.config.hidden_size, n_classes[1])  # unit1_mov\n",
        "        self.fc3 = nn.Linear(self.bert.config.hidden_size, n_classes[2])  # unit2_dir\n",
        "        self.fc4 = nn.Linear(self.bert.config.hidden_size, n_classes[3])  # unit2_mov\n",
        "        self.fc5 = nn.Linear(self.bert.config.hidden_size, n_classes[4])  # unit_at_fault\n",
        "        self.fc6 = nn.Linear(self.bert.config.hidden_size, n_classes[5])  # crash_type\n",
        "\n",
        "    def forward(self, input_ids, attention_mask):\n",
        "        outputs = self.bert(input_ids=input_ids, attention_mask=attention_mask)\n",
        "        pooled = self.dropout(outputs.pooler_output)\n",
        "        out1 = self.fc1(pooled)\n",
        "        out2 = self.fc2(pooled)\n",
        "        out3 = self.fc3(pooled)\n",
        "        out4 = self.fc4(pooled)\n",
        "        out5 = self.fc5(pooled)\n",
        "        out6 = self.fc6(pooled)\n",
        "        return out1, out2, out3, out4, out5, out6\n",
        "\n"
      ],
      "metadata": {
        "id": "xn_SlMFWMEEq"
      },
      "execution_count": 31,
      "outputs": []
    },
    {
      "cell_type": "code",
      "source": [
        "n_classes = [\n",
        "    len(enc_unit1_dir.classes_),\n",
        "    len(enc_unit1_mov.classes_),\n",
        "    len(enc_unit2_dir.classes_),\n",
        "    len(enc_unit2_mov.classes_),\n",
        "    len(enc_unit_at_fault.classes_),\n",
        "    len(enc_crash_type.classes_)\n",
        "]\n"
      ],
      "metadata": {
        "id": "Agh9xZZgMboj"
      },
      "execution_count": 32,
      "outputs": []
    },
    {
      "cell_type": "code",
      "source": [
        "import torch\n",
        "\n",
        "device = torch.device(\"cuda\" if torch.cuda.is_available() else \"cpu\")\n"
      ],
      "metadata": {
        "id": "6zja_wIDNc6o"
      },
      "execution_count": 33,
      "outputs": []
    },
    {
      "cell_type": "code",
      "source": [
        "from sklearn.utils.class_weight import compute_class_weight\n",
        "import numpy as np\n",
        "\n",
        "\n",
        "cw1 = compute_class_weight('balanced', classes=np.unique(y1), y=y1_train)\n",
        "cw2 = compute_class_weight('balanced', classes=np.unique(y2), y=y2_train)\n",
        "cw3 = compute_class_weight('balanced', classes=np.unique(y3), y=y3_train)\n",
        "cw4 = compute_class_weight('balanced', classes=np.unique(y4), y=y4_train)\n",
        "#cw5 = compute_class_weight('balanced', classes=np.unique(y5), y=y5_train)\n",
        "cw6 = compute_class_weight('balanced', classes=np.unique(y6), y=y6_train)\n"
      ],
      "metadata": {
        "id": "SrnlxbOFyrnO"
      },
      "execution_count": 34,
      "outputs": []
    },
    {
      "cell_type": "code",
      "source": [
        "# Replace cw5 with this:\n",
        "full_classes = enc_unit_at_fault.transform(enc_unit_at_fault.classes_)  # ensures [0,1,2,3,...] as integers\n",
        "\n",
        "try:\n",
        "    class_weights_y5 = compute_class_weight(class_weight='balanced', classes=full_classes, y=y5_train)\n",
        "except ValueError:\n",
        "    present_classes = np.unique(y5_train)\n",
        "    partial_weights = compute_class_weight(class_weight='balanced', classes=present_classes, y=y5_train)\n",
        "\n",
        "    class_weights_y5 = np.ones(len(full_classes), dtype=np.float32)\n",
        "    for i, cls in enumerate(full_classes):\n",
        "        if cls in present_classes:\n",
        "            class_weights_y5[i] = partial_weights[np.where(present_classes == cls)[0][0]]\n",
        "        else:\n",
        "            class_weights_y5[i] = 1.0  # fallback weight\n",
        "\n",
        "# Convert to tensor\n",
        "weights_y5 = torch.tensor(class_weights_y5, dtype=torch.float).to(device)\n"
      ],
      "metadata": {
        "id": "hSbH9D0BAjNN"
      },
      "execution_count": 35,
      "outputs": []
    },
    {
      "cell_type": "code",
      "source": [
        "# Convert to torch tensors\n",
        "weights_y1 = torch.tensor(cw1, dtype=torch.float).to(device)\n",
        "weights_y2 = torch.tensor(cw2, dtype=torch.float).to(device)\n",
        "weights_y3 = torch.tensor(cw3, dtype=torch.float).to(device)\n",
        "weights_y4 = torch.tensor(cw4, dtype=torch.float).to(device)\n",
        "#weights_y5 = torch.tensor(cw5, dtype=torch.float).to(device)\n",
        "weights_y6 = torch.tensor(cw6, dtype=torch.float).to(device)"
      ],
      "metadata": {
        "id": "pGQqq8Ty4fbG"
      },
      "execution_count": 36,
      "outputs": []
    },
    {
      "cell_type": "code",
      "source": [
        "print(\"Class weights for unit_at_fault:\", class_weights_y5)\n",
        "print(\"Shape:\", weights_y5.shape)"
      ],
      "metadata": {
        "colab": {
          "base_uri": "https://localhost:8080/"
        },
        "id": "3m-RunKFBG4Z",
        "outputId": "071177c9-08c4-4590-af80-768282528331"
      },
      "execution_count": 37,
      "outputs": [
        {
          "output_type": "stream",
          "name": "stdout",
          "text": [
            "Class weights for unit_at_fault: [ 1.          0.35620052 27.          6.428571  ]\n",
            "Shape: torch.Size([4])\n"
          ]
        }
      ]
    },
    {
      "cell_type": "markdown",
      "source": [
        "##Training Loop"
      ],
      "metadata": {
        "id": "T28sdM9nn7g9"
      }
    },
    {
      "cell_type": "code",
      "source": [
        "from torch.utils.data import DataLoader\n",
        "\n",
        "model = CrashBERTMultiHead(n_classes).to(device)\n",
        "\n",
        "#epoch = 0\n",
        "#for param in model.bert.parameters():\n",
        "    #param.requires_grad = False\n",
        "\n",
        "optimizer = torch.optim.AdamW(model.parameters(), lr=2e-5)\n",
        "loss_fn1 = nn.CrossEntropyLoss(weight=weights_y1)\n",
        "loss_fn2 = nn.CrossEntropyLoss(weight=weights_y2)\n",
        "loss_fn3 = nn.CrossEntropyLoss(weight=weights_y3)\n",
        "loss_fn4 = nn.CrossEntropyLoss(weight=weights_y4)\n",
        "loss_fn5 = nn.CrossEntropyLoss(weight=weights_y5)\n",
        "loss_fn6 = nn.CrossEntropyLoss(weight=weights_y6)\n",
        "\n",
        "\n",
        "train_dataset = CrashDataset(X_train, y1_train, y2_train, y3_train, y4_train, y5_train, y6_train)\n",
        "val_dataset = CrashDataset(X_val, y1_val, y2_val, y3_val, y4_val, y5_val, y6_val)\n",
        "\n",
        "train_loader = DataLoader(train_dataset, batch_size=8, shuffle=True)\n",
        "val_loader = DataLoader(val_dataset, batch_size=8, shuffle=False)\n",
        "\n",
        "for epoch in range(15):\n",
        "    model.train()\n",
        "    total_loss = 0\n",
        "\n",
        "#if epoch == 3:\n",
        "    #for param in model.bert.parameters():\n",
        "        #param.requires_grad = True\n",
        "\n",
        "    for batch in train_loader:\n",
        "        input_ids = batch['input_ids'].to(device)\n",
        "        attention_mask = batch['attention_mask'].to(device)\n",
        "        y1 = batch['y1'].to(device)\n",
        "        y2 = batch['y2'].to(device)\n",
        "        y3 = batch['y3'].to(device)\n",
        "        y4 = batch['y4'].to(device)\n",
        "        y5 = batch['y5'].to(device)\n",
        "        y6 = batch['y6'].to(device)\n",
        "\n",
        "        optimizer.zero_grad()\n",
        "        out1, out2, out3, out4, out5, out6 = model(input_ids, attention_mask)\n",
        "\n",
        "        loss1 = loss_fn1(out1, y1)\n",
        "        loss2 = loss_fn2(out2, y2)\n",
        "        loss3 = loss_fn3(out3, y3)\n",
        "        loss4 = loss_fn4(out4, y4)\n",
        "        loss5 = loss_fn5(out5, y5)\n",
        "        loss6 = loss_fn6(out6, y6)\n",
        "\n",
        "        loss = 1.2 * loss1 + loss2 + 1.2 * loss3 + loss4 + loss5 + loss6\n",
        "        loss.backward()\n",
        "        optimizer.step()\n",
        "\n",
        "        total_loss += loss.item()\n",
        "\n",
        "    print(f\"Epoch {epoch+1}, Loss: {total_loss/len(train_loader)}\")\n"
      ],
      "metadata": {
        "colab": {
          "base_uri": "https://localhost:8080/"
        },
        "id": "0HG0D3EDMsEB",
        "outputId": "f1149ddf-ab73-44ef-e093-b412574bddef"
      },
      "execution_count": 38,
      "outputs": [
        {
          "output_type": "stream",
          "name": "stdout",
          "text": [
            "Epoch 1, Loss: 8.685090111751183\n",
            "Epoch 2, Loss: 8.123564000223197\n",
            "Epoch 3, Loss: 7.821740487042596\n",
            "Epoch 4, Loss: 7.490375752542533\n",
            "Epoch 5, Loss: 7.199809915879193\n",
            "Epoch 6, Loss: 6.752238815906001\n",
            "Epoch 7, Loss: 6.288015870486989\n",
            "Epoch 8, Loss: 5.701927699294745\n",
            "Epoch 9, Loss: 5.101908057343726\n",
            "Epoch 10, Loss: 4.500170885347853\n",
            "Epoch 11, Loss: 4.165989857093961\n",
            "Epoch 12, Loss: 3.652878349902583\n",
            "Epoch 13, Loss: 3.29874251870548\n",
            "Epoch 14, Loss: 3.021403422542647\n",
            "Epoch 15, Loss: 2.7128844868903066\n"
          ]
        }
      ]
    },
    {
      "cell_type": "code",
      "source": [
        "print(\"Class weights for Unit 1 Direction (NB, EB, SB, WB):\", weights_y1)\n",
        "print(\"Class weights for Unit 2 Direction (NB, EB, SB, WB):\", weights_y3)"
      ],
      "metadata": {
        "colab": {
          "base_uri": "https://localhost:8080/"
        },
        "id": "grA4pgIczk65",
        "outputId": "12e78e5f-14b2-4311-9948-135e21c35386"
      },
      "execution_count": 39,
      "outputs": [
        {
          "output_type": "stream",
          "name": "stdout",
          "text": [
            "Class weights for Unit 1 Direction (NB, EB, SB, WB): tensor([1.2054, 0.7849, 1.0887, 1.0227])\n",
            "Class weights for Unit 2 Direction (NB, EB, SB, WB): tensor([1.3682, 0.7445, 1.0025, 1.0771])\n"
          ]
        }
      ]
    },
    {
      "cell_type": "markdown",
      "source": [
        "##Print one tokenized crash description"
      ],
      "metadata": {
        "id": "Zajznx00eJRd"
      }
    },
    {
      "cell_type": "code",
      "source": [
        "# Pick a sample\n",
        "sample_text = input_texts.iloc[0]  # or any other index\n",
        "print(\"Original Crash Description:\\n\", sample_text)\n",
        "\n",
        "# Tokenize\n",
        "tokens = tokenizer(sample_text, padding='max_length', truncation=True, max_length=128, return_tensors=\"pt\")\n",
        "print(\"\\nTokenized Input:\\n\", tokens)\n"
      ],
      "metadata": {
        "colab": {
          "base_uri": "https://localhost:8080/"
        },
        "id": "YgX97wxPeOr4",
        "outputId": "e15b0518-39dd-4824-f44b-707bdc78787a"
      },
      "execution_count": 40,
      "outputs": [
        {
          "output_type": "stream",
          "name": "stdout",
          "text": [
            "Original Crash Description:\n",
            " 3300 george dieter is a two lane marked roadway north with a\n",
            "adatory left turn lane going west and a two lane marked\n",
            "roadaway south with a mandatory left turn lane going east.\n",
            "11300 edgemere is a two lane marked roadway east and a two lane\n",
            "i * ked roadway west both have a mandatory left turn lane. unit\n",
            "2 was traveling south on george dieter in the right lane. unit\n",
            "1 was traveling north on george dieter and making a left turn\n",
            "onto edgemere. unit 1 failed to yield the right of way turning\n",
            "left and caused collision with unit 2. driver of unit 1 stated\n",
            "that he turned on a solid green with no arrow. driver of unit 2\n",
            "as complaining of pain to both wrists but refused transport. [DIR_NB] [DIR_SB] [DIR_EB] [DIR_WB]\n",
            "\n",
            "Tokenized Input:\n",
            " {'input_ids': tensor([[  101, 14210,  2692,  2577, 27976,  2003,  1037,  2048,  4644,  4417,\n",
            "         18799,  2167,  2007,  1037, 15262,  7062,  2187,  2735,  4644,  2183,\n",
            "          2225,  1998,  1037,  2048,  4644,  4417,  2346,  9497,  2148,  2007,\n",
            "          1037, 10915,  2187,  2735,  4644,  2183,  2264,  1012, 12104,  8889,\n",
            "          3341, 13759,  2003,  1037,  2048,  4644,  4417, 18799,  2264,  1998,\n",
            "          1037,  2048,  4644,  1045,  1008, 16135, 18799,  2225,  2119,  2031,\n",
            "          1037, 10915,  2187,  2735,  4644,  1012,  3131,  1016,  2001,  7118,\n",
            "          2148,  2006,  2577, 27976,  1999,  1996,  2157,  4644,  1012,  3131,\n",
            "          1015,  2001,  7118,  2167,  2006,  2577, 27976,  1998,  2437,  1037,\n",
            "          2187,  2735,  3031,  3341, 13759,  1012,  3131,  1015,  3478,  2000,\n",
            "         10750,  1996,  2157,  1997,  2126,  3810,  2187,  1998,  3303, 12365,\n",
            "          2007,  3131,  1016,  1012,  4062,  1997,  3131,  1015,  3090,  2008,\n",
            "          2002,  2357,  2006,  1037,  5024,  2665,  2007,   102]]), 'token_type_ids': tensor([[0, 0, 0, 0, 0, 0, 0, 0, 0, 0, 0, 0, 0, 0, 0, 0, 0, 0, 0, 0, 0, 0, 0, 0,\n",
            "         0, 0, 0, 0, 0, 0, 0, 0, 0, 0, 0, 0, 0, 0, 0, 0, 0, 0, 0, 0, 0, 0, 0, 0,\n",
            "         0, 0, 0, 0, 0, 0, 0, 0, 0, 0, 0, 0, 0, 0, 0, 0, 0, 0, 0, 0, 0, 0, 0, 0,\n",
            "         0, 0, 0, 0, 0, 0, 0, 0, 0, 0, 0, 0, 0, 0, 0, 0, 0, 0, 0, 0, 0, 0, 0, 0,\n",
            "         0, 0, 0, 0, 0, 0, 0, 0, 0, 0, 0, 0, 0, 0, 0, 0, 0, 0, 0, 0, 0, 0, 0, 0,\n",
            "         0, 0, 0, 0, 0, 0, 0, 0]]), 'attention_mask': tensor([[1, 1, 1, 1, 1, 1, 1, 1, 1, 1, 1, 1, 1, 1, 1, 1, 1, 1, 1, 1, 1, 1, 1, 1,\n",
            "         1, 1, 1, 1, 1, 1, 1, 1, 1, 1, 1, 1, 1, 1, 1, 1, 1, 1, 1, 1, 1, 1, 1, 1,\n",
            "         1, 1, 1, 1, 1, 1, 1, 1, 1, 1, 1, 1, 1, 1, 1, 1, 1, 1, 1, 1, 1, 1, 1, 1,\n",
            "         1, 1, 1, 1, 1, 1, 1, 1, 1, 1, 1, 1, 1, 1, 1, 1, 1, 1, 1, 1, 1, 1, 1, 1,\n",
            "         1, 1, 1, 1, 1, 1, 1, 1, 1, 1, 1, 1, 1, 1, 1, 1, 1, 1, 1, 1, 1, 1, 1, 1,\n",
            "         1, 1, 1, 1, 1, 1, 1, 1]])}\n"
          ]
        }
      ]
    },
    {
      "cell_type": "markdown",
      "source": [
        "##How BERT Input looks like?"
      ],
      "metadata": {
        "id": "QrjToF1KehSb"
      }
    },
    {
      "cell_type": "code",
      "source": [
        "print(\"\\nInput IDs:\\n\", tokens['input_ids'][0])\n",
        "print(\"\\nAttention Mask:\\n\", tokens['attention_mask'][0])\n"
      ],
      "metadata": {
        "colab": {
          "base_uri": "https://localhost:8080/"
        },
        "id": "kLilV2-IetHV",
        "outputId": "50966f4b-c415-4ef9-f0a3-b997a8919cdc"
      },
      "execution_count": 41,
      "outputs": [
        {
          "output_type": "stream",
          "name": "stdout",
          "text": [
            "\n",
            "Input IDs:\n",
            " tensor([  101, 14210,  2692,  2577, 27976,  2003,  1037,  2048,  4644,  4417,\n",
            "        18799,  2167,  2007,  1037, 15262,  7062,  2187,  2735,  4644,  2183,\n",
            "         2225,  1998,  1037,  2048,  4644,  4417,  2346,  9497,  2148,  2007,\n",
            "         1037, 10915,  2187,  2735,  4644,  2183,  2264,  1012, 12104,  8889,\n",
            "         3341, 13759,  2003,  1037,  2048,  4644,  4417, 18799,  2264,  1998,\n",
            "         1037,  2048,  4644,  1045,  1008, 16135, 18799,  2225,  2119,  2031,\n",
            "         1037, 10915,  2187,  2735,  4644,  1012,  3131,  1016,  2001,  7118,\n",
            "         2148,  2006,  2577, 27976,  1999,  1996,  2157,  4644,  1012,  3131,\n",
            "         1015,  2001,  7118,  2167,  2006,  2577, 27976,  1998,  2437,  1037,\n",
            "         2187,  2735,  3031,  3341, 13759,  1012,  3131,  1015,  3478,  2000,\n",
            "        10750,  1996,  2157,  1997,  2126,  3810,  2187,  1998,  3303, 12365,\n",
            "         2007,  3131,  1016,  1012,  4062,  1997,  3131,  1015,  3090,  2008,\n",
            "         2002,  2357,  2006,  1037,  5024,  2665,  2007,   102])\n",
            "\n",
            "Attention Mask:\n",
            " tensor([1, 1, 1, 1, 1, 1, 1, 1, 1, 1, 1, 1, 1, 1, 1, 1, 1, 1, 1, 1, 1, 1, 1, 1,\n",
            "        1, 1, 1, 1, 1, 1, 1, 1, 1, 1, 1, 1, 1, 1, 1, 1, 1, 1, 1, 1, 1, 1, 1, 1,\n",
            "        1, 1, 1, 1, 1, 1, 1, 1, 1, 1, 1, 1, 1, 1, 1, 1, 1, 1, 1, 1, 1, 1, 1, 1,\n",
            "        1, 1, 1, 1, 1, 1, 1, 1, 1, 1, 1, 1, 1, 1, 1, 1, 1, 1, 1, 1, 1, 1, 1, 1,\n",
            "        1, 1, 1, 1, 1, 1, 1, 1, 1, 1, 1, 1, 1, 1, 1, 1, 1, 1, 1, 1, 1, 1, 1, 1,\n",
            "        1, 1, 1, 1, 1, 1, 1, 1])\n"
          ]
        }
      ]
    },
    {
      "cell_type": "markdown",
      "source": [
        "##Decode the Tokens Back (See How BERT Sees Your Text)"
      ],
      "metadata": {
        "id": "Z32HeKKOe2T0"
      }
    },
    {
      "cell_type": "code",
      "source": [
        "decoded_text = tokenizer.decode(tokens['input_ids'][0])\n",
        "print(\"\\nDecoded Text:\\n\", decoded_text)\n"
      ],
      "metadata": {
        "colab": {
          "base_uri": "https://localhost:8080/"
        },
        "id": "EG1qLJ7_e60L",
        "outputId": "5cf19a0e-4068-4ec7-b8fc-0e64d18e4a18"
      },
      "execution_count": 42,
      "outputs": [
        {
          "output_type": "stream",
          "name": "stdout",
          "text": [
            "\n",
            "Decoded Text:\n",
            " [CLS] 3300 george dieter is a two lane marked roadway north with a adatory left turn lane going west and a two lane marked roadaway south with a mandatory left turn lane going east. 11300 edgemere is a two lane marked roadway east and a two lane i * ked roadway west both have a mandatory left turn lane. unit 2 was traveling south on george dieter in the right lane. unit 1 was traveling north on george dieter and making a left turn onto edgemere. unit 1 failed to yield the right of way turning left and caused collision with unit 2. driver of unit 1 stated that he turned on a solid green with [SEP]\n"
          ]
        }
      ]
    },
    {
      "cell_type": "markdown",
      "source": [
        "##Visualize Attention Mask or Embeddings"
      ],
      "metadata": {
        "id": "i5gPLkP1fIIc"
      }
    },
    {
      "cell_type": "code",
      "source": [
        "import matplotlib.pyplot as plt\n",
        "\n",
        "plt.figure(figsize=(15,1))\n",
        "plt.imshow(tokens['attention_mask'].numpy(), cmap='gray', aspect='auto')\n",
        "plt.title('Attention Mask Visualization')\n",
        "plt.xlabel('Token Position')\n",
        "plt.ylabel('Batch')\n",
        "plt.colorbar()\n",
        "plt.show()\n"
      ],
      "metadata": {
        "colab": {
          "base_uri": "https://localhost:8080/",
          "height": 179
        },
        "id": "oqjd5QtAfMTb",
        "outputId": "a09b20d1-3862-43f3-8acd-bc8229825e9c"
      },
      "execution_count": 43,
      "outputs": [
        {
          "output_type": "display_data",
          "data": {
            "text/plain": [
              "<Figure size 1500x100 with 2 Axes>"
            ],
            "image/png": "[encoded data removed]"
          },
          "metadata": {}
        }
      ]
    },
    {
      "cell_type": "markdown",
      "source": [
        "##Evaluate the model"
      ],
      "metadata": {
        "id": "IJLOmHex5c_G"
      }
    },
    {
      "cell_type": "code",
      "source": [
        "from sklearn.metrics import accuracy_score, f1_score, classification_report\n",
        "\n",
        "model.eval()\n",
        "\n",
        "all_preds_y1 = []\n",
        "all_preds_y2 = []\n",
        "all_preds_y3 = []\n",
        "all_preds_y4 = []\n",
        "all_preds_y5 = []\n",
        "all_preds_y6 = []\n",
        "\n",
        "all_true_y1 = []\n",
        "all_true_y2 = []\n",
        "all_true_y3 = []\n",
        "all_true_y4 = []\n",
        "all_true_y5 = []\n",
        "all_true_y6 = []\n",
        "\n",
        "with torch.no_grad():\n",
        "    for batch in val_loader:\n",
        "        input_ids = batch['input_ids'].to(device)\n",
        "        attention_mask = batch['attention_mask'].to(device)\n",
        "\n",
        "        out1, out2, out3, out4, out5, out6 = model(input_ids, attention_mask)\n",
        "\n",
        "        preds_y1 = torch.argmax(out1, dim=1).cpu().numpy()\n",
        "        preds_y2 = torch.argmax(out2, dim=1).cpu().numpy()\n",
        "        preds_y3 = torch.argmax(out3, dim=1).cpu().numpy()\n",
        "        preds_y4 = torch.argmax(out4, dim=1).cpu().numpy()\n",
        "        preds_y5 = torch.argmax(out5, dim=1).cpu().numpy()\n",
        "        preds_y6 = torch.argmax(out6, dim=1).cpu().numpy()\n",
        "\n",
        "        all_preds_y1.extend(preds_y1)\n",
        "        all_preds_y2.extend(preds_y2)\n",
        "        all_preds_y3.extend(preds_y3)\n",
        "        all_preds_y4.extend(preds_y4)\n",
        "        all_preds_y5.extend(preds_y5)\n",
        "        all_preds_y6.extend(preds_y6)\n",
        "\n",
        "        all_true_y1.extend(batch['y1'].cpu().numpy())\n",
        "        all_true_y2.extend(batch['y2'].cpu().numpy())\n",
        "        all_true_y3.extend(batch['y3'].cpu().numpy())\n",
        "        all_true_y4.extend(batch['y4'].cpu().numpy())\n",
        "        all_true_y5.extend(batch['y5'].cpu().numpy())\n",
        "        all_true_y6.extend(batch['y6'].cpu().numpy())\n"
      ],
      "metadata": {
        "id": "tLEfKFEngUck"
      },
      "execution_count": 44,
      "outputs": []
    },
    {
      "cell_type": "code",
      "source": [
        "# For Unit 1 Direction\n",
        "print(\"Unit 1 Direction - Accuracy:\", accuracy_score(all_true_y1, all_preds_y1))\n",
        "print(\"Unit 1 Direction - F1 Score (macro):\", f1_score(all_true_y1, all_preds_y1, average='macro'))\n",
        "\n",
        "# For Unit 1 Movement\n",
        "print(\"\\nUnit 1 Movement - Accuracy:\", accuracy_score(all_true_y2, all_preds_y2))\n",
        "print(\"Unit 1 Movement - F1 Score (macro):\", f1_score(all_true_y2, all_preds_y2, average='macro'))\n",
        "\n",
        "# For Unit 2 Direction\n",
        "print(\"\\nUnit 2 Direction - Accuracy:\", accuracy_score(all_true_y3, all_preds_y3))\n",
        "print(\"Unit 2 Direction - F1 Score (macro):\", f1_score(all_true_y3, all_preds_y3, average='macro'))\n",
        "\n",
        "# For Unit 2 Movement\n",
        "print(\"\\nUnit 2 Movement - Accuracy:\", accuracy_score(all_true_y4, all_preds_y4))\n",
        "print(\"Unit 2 Movement - F1 Score (macro):\", f1_score(all_true_y4, all_preds_y4, average='macro'))\n",
        "\n",
        "# For unit at fault\n",
        "print(\"\\nUnit at Fault - Accuracy:\", accuracy_score(all_true_y5, all_preds_y5))\n",
        "print(\"Unit at Fault - F1 Score (macro):\", f1_score(all_true_y5, all_preds_y5, average='macro'))\n",
        "\n",
        "# For Crash Type\n",
        "print(\"\\nCrash Type - Accuracy:\", accuracy_score(all_true_y6, all_preds_y6))\n",
        "print(\"Crash Type - F1 Score (macro):\", f1_score(all_true_y6, all_preds_y6, average='macro'))\n"
      ],
      "metadata": {
        "colab": {
          "base_uri": "https://localhost:8080/"
        },
        "id": "tM75I9hhgqs8",
        "outputId": "7069e60a-6113-458c-e1d0-e8c390c1a7dc"
      },
      "execution_count": 45,
      "outputs": [
        {
          "output_type": "stream",
          "name": "stdout",
          "text": [
            "Unit 1 Direction - Accuracy: 0.6862745098039216\n",
            "Unit 1 Direction - F1 Score (macro): 0.6882284382284383\n",
            "\n",
            "Unit 1 Movement - Accuracy: 0.7647058823529411\n",
            "Unit 1 Movement - F1 Score (macro): 0.5259742738272454\n",
            "\n",
            "Unit 2 Direction - Accuracy: 0.7058823529411765\n",
            "Unit 2 Direction - F1 Score (macro): 0.6945171801809665\n",
            "\n",
            "Unit 2 Movement - Accuracy: 0.803921568627451\n",
            "Unit 2 Movement - F1 Score (macro): 0.40380952380952384\n",
            "\n",
            "Unit at Fault - Accuracy: 0.8627450980392157\n",
            "Unit at Fault - F1 Score (macro): 0.23157894736842105\n",
            "\n",
            "Crash Type - Accuracy: 0.6568627450980392\n",
            "Crash Type - F1 Score (macro): 0.3262623417647654\n"
          ]
        }
      ]
    },
    {
      "cell_type": "code",
      "source": [
        "print(\"\\nCrash Type Classification Report:\\n\")\n",
        "print(classification_report(all_true_y6, all_preds_y6))"
      ],
      "metadata": {
        "colab": {
          "base_uri": "https://localhost:8080/"
        },
        "id": "klmcXeufhcDs",
        "outputId": "8830eaeb-7f04-4165-f5ba-5b5e0aa1e0fa"
      },
      "execution_count": 46,
      "outputs": [
        {
          "output_type": "stream",
          "name": "stdout",
          "text": [
            "\n",
            "Crash Type Classification Report:\n",
            "\n",
            "              precision    recall  f1-score   support\n",
            "\n",
            "           0       0.00      0.00      0.00         2\n",
            "           1       0.00      0.00      0.00         1\n",
            "           2       0.65      0.81      0.72        27\n",
            "           3       0.90      0.74      0.81        47\n",
            "           4       0.35      0.55      0.43        11\n",
            "           5       0.33      0.31      0.32        13\n",
            "           6       0.00      0.00      0.00         1\n",
            "\n",
            "    accuracy                           0.66       102\n",
            "   macro avg       0.32      0.34      0.33       102\n",
            "weighted avg       0.67      0.66      0.65       102\n",
            "\n"
          ]
        },
        {
          "output_type": "stream",
          "name": "stderr",
          "text": [
            "/usr/local/lib/python3.11/dist-packages/sklearn/metrics/_classification.py:1565: UndefinedMetricWarning: Precision is ill-defined and being set to 0.0 in labels with no predicted samples. Use `zero_division` parameter to control this behavior.\n",
            "  _warn_prf(average, modifier, f\"{metric.capitalize()} is\", len(result))\n",
            "/usr/local/lib/python3.11/dist-packages/sklearn/metrics/_classification.py:1565: UndefinedMetricWarning: Precision is ill-defined and being set to 0.0 in labels with no predicted samples. Use `zero_division` parameter to control this behavior.\n",
            "  _warn_prf(average, modifier, f\"{metric.capitalize()} is\", len(result))\n",
            "/usr/local/lib/python3.11/dist-packages/sklearn/metrics/_classification.py:1565: UndefinedMetricWarning: Precision is ill-defined and being set to 0.0 in labels with no predicted samples. Use `zero_division` parameter to control this behavior.\n",
            "  _warn_prf(average, modifier, f\"{metric.capitalize()} is\", len(result))\n"
          ]
        }
      ]
    },
    {
      "cell_type": "markdown",
      "source": [
        "Precision=\tTP / (TP + FP)\t(Exactness)\n",
        "\n",
        "Recall=\tTP / (TP + FN)\t(Completeness)\n",
        "\n",
        "F1 Score=\t2 × (Precision × Recall) / (Precision + Recall)\t(Balance)\n",
        "\n",
        "Support=\tCount of true positives in ground truth\t(Frequency)"
      ],
      "metadata": {
        "id": "u5Oj316zhWbN"
      }
    },
    {
      "cell_type": "code",
      "source": [
        "from sklearn.metrics import classification_report\n",
        "\n",
        "print(\"\\nUnit 1 Direction Classification Report:\\n\")\n",
        "print(classification_report(all_true_y1, all_preds_y1))\n"
      ],
      "metadata": {
        "colab": {
          "base_uri": "https://localhost:8080/"
        },
        "id": "vH5MHJmrjTSc",
        "outputId": "24ce979f-be50-4ba5-bfb5-29214f4cf8e3"
      },
      "execution_count": 47,
      "outputs": [
        {
          "output_type": "stream",
          "name": "stdout",
          "text": [
            "\n",
            "Unit 1 Direction Classification Report:\n",
            "\n",
            "              precision    recall  f1-score   support\n",
            "\n",
            "           0       0.64      0.70      0.67        20\n",
            "           1       0.79      0.58      0.67        38\n",
            "           2       0.60      0.82      0.69        22\n",
            "           3       0.73      0.73      0.73        22\n",
            "\n",
            "    accuracy                           0.69       102\n",
            "   macro avg       0.69      0.71      0.69       102\n",
            "weighted avg       0.70      0.69      0.69       102\n",
            "\n"
          ]
        }
      ]
    },
    {
      "cell_type": "code",
      "source": [
        "print(\"\\nUnit 2 Direction Classification Report:\\n\")\n",
        "print(classification_report(all_true_y3, all_preds_y3))"
      ],
      "metadata": {
        "colab": {
          "base_uri": "https://localhost:8080/"
        },
        "id": "ucfAhrmQjfos",
        "outputId": "deeebefd-37a3-48b2-817f-a735096935a4"
      },
      "execution_count": 48,
      "outputs": [
        {
          "output_type": "stream",
          "name": "stdout",
          "text": [
            "\n",
            "Unit 2 Direction Classification Report:\n",
            "\n",
            "              precision    recall  f1-score   support\n",
            "\n",
            "           0       0.71      0.57      0.63        21\n",
            "           1       0.73      0.68      0.70        28\n",
            "           2       0.72      0.84      0.78        31\n",
            "           3       0.65      0.68      0.67        22\n",
            "\n",
            "    accuracy                           0.71       102\n",
            "   macro avg       0.70      0.69      0.69       102\n",
            "weighted avg       0.71      0.71      0.70       102\n",
            "\n"
          ]
        }
      ]
    },
    {
      "cell_type": "code",
      "source": [
        "from sklearn.metrics import confusion_matrix, ConfusionMatrixDisplay\n",
        "import matplotlib.pyplot as plt\n",
        "\n",
        "# Define function to plot confusion matrix\n",
        "def plot_conf_matrix(y_true, y_pred, title, labels=None):\n",
        "    cm = confusion_matrix(y_true, y_pred)\n",
        "    disp = ConfusionMatrixDisplay(confusion_matrix=cm, display_labels=labels)\n",
        "    fig, ax = plt.subplots(figsize=(6,6))\n",
        "    disp.plot(cmap='Blues', ax=ax, colorbar=False)\n",
        "    plt.title(title)\n",
        "    plt.show()\n",
        "\n",
        "# Optional: define labels if you have LabelEncoders\n",
        "# Otherwise, labels are just class indices: 0, 1, 2, etc.\n",
        "\n",
        "# Plot for each output\n",
        "plot_conf_matrix(all_true_y1, all_preds_y1, \"Unit 1 Direction Confusion Matrix\")\n",
        "plot_conf_matrix(all_true_y2, all_preds_y2, \"Unit 1 Movement Confusion Matrix\")\n",
        "plot_conf_matrix(all_true_y3, all_preds_y3, \"Unit 2 Direction Confusion Matrix\")\n",
        "plot_conf_matrix(all_true_y4, all_preds_y4, \"Unit 2 Movement Confusion Matrix\")\n",
        "plot_conf_matrix(all_true_y5, all_preds_y5, \"Unit at Fault Confusion Matrix\")\n",
        "plot_conf_matrix(all_true_y6, all_preds_y6, \"Crash Type Confusion Matrix\")\n"
      ],
      "metadata": {
        "colab": {
          "base_uri": "https://localhost:8080/",
          "height": 1000
        },
        "id": "V6TAETGvlYVP",
        "outputId": "b00cdb05-a072-4db1-e432-8bec01688e36"
      },
      "execution_count": 49,
      "outputs": [
        {
          "output_type": "display_data",
          "data": {
            "text/plain": [
              "<Figure size 600x600 with 1 Axes>"
            ],
            "image/png": "[encoded data removed]"
          },
          "metadata": {}
        },
        {
          "output_type": "display_data",
          "data": {
            "text/plain": [
              "<Figure size 600x600 with 1 Axes>"
            ],
            "image/png": "[encoded data removed]"
          },
          "metadata": {}
        },
        {
          "output_type": "display_data",
          "data": {
            "text/plain": [
              "<Figure size 600x600 with 1 Axes>"
            ],
            "image/png": "[encoded data removed]"
          },
          "metadata": {}
        },
        {
          "output_type": "display_data",
          "data": {
            "text/plain": [
              "<Figure size 600x600 with 1 Axes>"
            ],
            "image/png": "[encoded data removed]"
          },
          "metadata": {}
        },
        {
          "output_type": "display_data",
          "data": {
            "text/plain": [
              "<Figure size 600x600 with 1 Axes>"
            ],
            "image/png": "[encoded data removed]"
          },
          "metadata": {}
        },
        {
          "output_type": "display_data",
          "data": {
            "text/plain": [
              "<Figure size 600x600 with 1 Axes>"
            ],
            "image/png": "[encoded data removed]"
          },
          "metadata": {}
        }
      ]
    },
    {
      "cell_type": "markdown",
      "source": [
        "Predicted 0\t  Predicted 1\n",
        "\n",
        "True 0\t  TN\tFP\n",
        "\n",
        "True 1\t  FN\tTP"
      ],
      "metadata": {
        "id": "qWO6RVUmiE4l"
      }
    }
  ]
}